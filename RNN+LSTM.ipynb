{
 "cells": [
  {
   "cell_type": "code",
   "execution_count": 132,
   "id": "a99c2f51",
   "metadata": {},
   "outputs": [],
   "source": [
    "import numpy as np\n",
    "import matplotlib.pyplot as plt\n",
    "import pandas as pd\n",
    "import datetime"
   ]
  },
  {
   "cell_type": "code",
   "execution_count": 133,
   "id": "7fd6fbd8",
   "metadata": {},
   "outputs": [],
   "source": [
    "dataset = pd.read_csv('maotai-train.csv',index_col=\"trade_date\",parse_dates=True)"
   ]
  },
  {
   "cell_type": "code",
   "execution_count": 134,
   "id": "d8bebbea",
   "metadata": {},
   "outputs": [
    {
     "name": "stdout",
     "output_type": "stream",
     "text": [
      "              open    high     low   close        vol\n",
      "trade_date                                           \n",
      "2017-12-29  718.00  726.50  691.60  697.49   76038.87\n",
      "2017-12-28  687.00  719.90  671.32  718.69  124141.07\n",
      "2017-12-27  684.86  684.86  662.50  664.18   37722.05\n",
      "2017-12-26  688.18  692.99  676.50  680.81   31867.66\n",
      "2017-12-25  686.00  696.30  683.72  688.12   36214.28\n"
     ]
    }
   ],
   "source": [
    "print(dataset.head(5))"
   ]
  },
  {
   "cell_type": "code",
   "execution_count": 135,
   "id": "8f663317",
   "metadata": {},
   "outputs": [
    {
     "name": "stdout",
     "output_type": "stream",
     "text": [
      "              open    high     low   close        vol\n",
      "trade_date                                           \n",
      "2014-01-02  127.99  127.99  125.60  125.98   21976.66\n",
      "2014-01-03  125.25  125.80  123.23  123.98   23341.65\n",
      "2014-01-06  122.88  124.90  120.70  120.73   30229.21\n",
      "2014-01-07  120.11  121.35  119.20  120.56   18039.46\n",
      "2014-01-08  120.49  121.18  118.01  119.40   31989.59\n",
      "...            ...     ...     ...     ...        ...\n",
      "2017-12-25  686.00  696.30  683.72  688.12   36214.28\n",
      "2017-12-26  688.18  692.99  676.50  680.81   31867.66\n",
      "2017-12-27  684.86  684.86  662.50  664.18   37722.05\n",
      "2017-12-28  687.00  719.90  671.32  718.69  124141.07\n",
      "2017-12-29  718.00  726.50  691.60  697.49   76038.87\n",
      "\n",
      "[977 rows x 5 columns]\n"
     ]
    }
   ],
   "source": [
    "#按交易日期重新排序\n",
    "dataset=dataset.sort_index()\n",
    "print(dataset)"
   ]
  },
  {
   "cell_type": "code",
   "execution_count": 136,
   "id": "fb8d7fdc",
   "metadata": {},
   "outputs": [
    {
     "data": {
      "text/plain": [
       "open     False\n",
       "high     False\n",
       "low      False\n",
       "close    False\n",
       "vol      False\n",
       "dtype: bool"
      ]
     },
     "execution_count": 136,
     "metadata": {},
     "output_type": "execute_result"
    }
   ],
   "source": [
    "#检查是否有空值\n",
    "dataset.isnull().any()"
   ]
  },
  {
   "cell_type": "code",
   "execution_count": 137,
   "id": "5fdc3c7e",
   "metadata": {},
   "outputs": [
    {
     "name": "stdout",
     "output_type": "stream",
     "text": [
      "<class 'pandas.core.frame.DataFrame'>\n",
      "DatetimeIndex: 977 entries, 2014-01-02 to 2017-12-29\n",
      "Data columns (total 5 columns):\n",
      " #   Column  Non-Null Count  Dtype  \n",
      "---  ------  --------------  -----  \n",
      " 0   open    977 non-null    float64\n",
      " 1   high    977 non-null    float64\n",
      " 2   low     977 non-null    float64\n",
      " 3   close   977 non-null    float64\n",
      " 4   vol     977 non-null    float64\n",
      "dtypes: float64(5)\n",
      "memory usage: 45.8 KB\n"
     ]
    }
   ],
   "source": [
    "#查看数据类型\n",
    "dataset.info()"
   ]
  },
  {
   "cell_type": "code",
   "execution_count": 138,
   "id": "35fadf5a",
   "metadata": {},
   "outputs": [],
   "source": [
    "#特征缩放\n",
    "from sklearn.preprocessing import MinMaxScaler"
   ]
  },
  {
   "cell_type": "code",
   "execution_count": 139,
   "id": "97d7d936",
   "metadata": {},
   "outputs": [],
   "source": [
    "#单维，对close价格进行预测\n",
    "trainingset=pd.DataFrame(dataset['close'])\n",
    "transfer=MinMaxScaler(feature_range=[0,1])\n",
    "trainingset_scaled = transfer.fit_transform(trainingset)"
   ]
  },
  {
   "cell_type": "code",
   "execution_count": 140,
   "id": "a5560a8f",
   "metadata": {},
   "outputs": [],
   "source": [
    "#设置常量\n",
    "time_step=20     #时间步"
   ]
  },
  {
   "cell_type": "code",
   "execution_count": 141,
   "id": "f388dc93",
   "metadata": {},
   "outputs": [],
   "source": [
    "#训练集\n",
    "train_x,train_y=[],[]\n",
    "for i in range(len(trainingset_scaled)-time_step-1):\n",
    "    train_x.append(trainingset_scaled[i:i+time_step])\n",
    "    train_y.append(trainingset_scaled[i+1:i+time_step+1])\n",
    "#调整训练集格式\n",
    "train_x,train_y=np.array(train_x),np.array(train_y)\n",
    "train_x = np.reshape(train_x, (train_x.shape[0], train_x.shape[1], 1))"
   ]
  },
  {
   "cell_type": "code",
   "execution_count": 142,
   "id": "a7570bb7",
   "metadata": {},
   "outputs": [],
   "source": [
    "#建立神经网络\n",
    "\n",
    "from keras.models import Sequential\n",
    "from keras.layers import Dense\n",
    "from keras.layers import LSTM\n",
    "from keras.layers import Dropout"
   ]
  },
  {
   "cell_type": "code",
   "execution_count": 143,
   "id": "2cf1eb9a",
   "metadata": {},
   "outputs": [],
   "source": [
    "regressor=Sequential()\n",
    "# 第一层lstm\n",
    "regressor.add(LSTM(units = 50, return_sequences = True, input_shape = (train_x.shape[1], 1)))\n",
    "regressor.add(Dropout(0.2))\n",
    "\n",
    "# 第二层\n",
    "regressor.add(LSTM(units = 50, return_sequences = True))\n",
    "regressor.add(Dropout(0.2))\n",
    "\n",
    "# 第三层\n",
    "regressor.add(LSTM(units = 50, return_sequences = True))\n",
    "regressor.add(Dropout(0.2))\n",
    "\n",
    "# 第四层\n",
    "regressor.add(LSTM(units = 50))\n",
    "regressor.add(Dropout(0.2))\n",
    "\n",
    "# 输出层\n",
    "regressor.add(Dense(units = 1))\n"
   ]
  },
  {
   "cell_type": "code",
   "execution_count": 144,
   "id": "7ee47871",
   "metadata": {},
   "outputs": [
    {
     "name": "stdout",
     "output_type": "stream",
     "text": [
      "Epoch 1/100\n",
      "48/48 [==============================] - 6s 20ms/step - loss: 0.0120\n",
      "Epoch 2/100\n",
      "48/48 [==============================] - 1s 18ms/step - loss: 0.0016\n",
      "Epoch 3/100\n",
      "48/48 [==============================] - 1s 18ms/step - loss: 0.0018\n",
      "Epoch 4/100\n",
      "48/48 [==============================] - 1s 18ms/step - loss: 0.0014\n",
      "Epoch 5/100\n",
      "48/48 [==============================] - 1s 18ms/step - loss: 0.0013\n",
      "Epoch 6/100\n",
      "48/48 [==============================] - 1s 18ms/step - loss: 0.0017\n",
      "Epoch 7/100\n",
      "48/48 [==============================] - 1s 19ms/step - loss: 0.0016\n",
      "Epoch 8/100\n",
      "48/48 [==============================] - 1s 26ms/step - loss: 0.0015\n",
      "Epoch 9/100\n",
      "48/48 [==============================] - 1s 18ms/step - loss: 0.0015\n",
      "Epoch 10/100\n",
      "48/48 [==============================] - 1s 18ms/step - loss: 0.0014\n",
      "Epoch 11/100\n",
      "48/48 [==============================] - 1s 18ms/step - loss: 0.0013\n",
      "Epoch 12/100\n",
      "48/48 [==============================] - 1s 18ms/step - loss: 0.0019\n",
      "Epoch 13/100\n",
      "48/48 [==============================] - 1s 21ms/step - loss: 0.0012\n",
      "Epoch 14/100\n",
      "48/48 [==============================] - 1s 18ms/step - loss: 0.0011\n",
      "Epoch 15/100\n",
      "48/48 [==============================] - 1s 18ms/step - loss: 0.0011\n",
      "Epoch 16/100\n",
      "48/48 [==============================] - 1s 18ms/step - loss: 0.0014\n",
      "Epoch 17/100\n",
      "48/48 [==============================] - 1s 18ms/step - loss: 0.0012\n",
      "Epoch 18/100\n",
      "48/48 [==============================] - 1s 18ms/step - loss: 0.0014\n",
      "Epoch 19/100\n",
      "48/48 [==============================] - 1s 18ms/step - loss: 0.0011\n",
      "Epoch 20/100\n",
      "48/48 [==============================] - 1s 21ms/step - loss: 0.0013\n",
      "Epoch 21/100\n",
      "48/48 [==============================] - 1s 18ms/step - loss: 0.0011\n",
      "Epoch 22/100\n",
      "48/48 [==============================] - 1s 18ms/step - loss: 0.0011\n",
      "Epoch 23/100\n",
      "48/48 [==============================] - 1s 19ms/step - loss: 0.0010\n",
      "Epoch 24/100\n",
      "48/48 [==============================] - 1s 18ms/step - loss: 0.0013\n",
      "Epoch 25/100\n",
      "48/48 [==============================] - 1s 19ms/step - loss: 0.0010\n",
      "Epoch 26/100\n",
      "48/48 [==============================] - 1s 18ms/step - loss: 0.0013\n",
      "Epoch 27/100\n",
      "48/48 [==============================] - 1s 18ms/step - loss: 0.0010\n",
      "Epoch 28/100\n",
      "48/48 [==============================] - 1s 18ms/step - loss: 0.0011\n",
      "Epoch 29/100\n",
      "48/48 [==============================] - 1s 19ms/step - loss: 0.0011\n",
      "Epoch 30/100\n",
      "48/48 [==============================] - 1s 18ms/step - loss: 0.0011\n",
      "Epoch 31/100\n",
      "48/48 [==============================] - 1s 27ms/step - loss: 0.0012\n",
      "Epoch 32/100\n",
      "48/48 [==============================] - 1s 24ms/step - loss: 0.0012\n",
      "Epoch 33/100\n",
      "48/48 [==============================] - 1s 26ms/step - loss: 0.0011\n",
      "Epoch 34/100\n",
      "48/48 [==============================] - 1s 26ms/step - loss: 9.1316e-04\n",
      "Epoch 35/100\n",
      "48/48 [==============================] - 1s 27ms/step - loss: 0.0010\n",
      "Epoch 36/100\n",
      "48/48 [==============================] - 1s 25ms/step - loss: 0.0010\n",
      "Epoch 37/100\n",
      "48/48 [==============================] - 1s 27ms/step - loss: 8.4536e-04\n",
      "Epoch 38/100\n",
      "48/48 [==============================] - 1s 25ms/step - loss: 9.7554e-04\n",
      "Epoch 39/100\n",
      "48/48 [==============================] - 1s 25ms/step - loss: 8.6935e-04\n",
      "Epoch 40/100\n",
      "48/48 [==============================] - 1s 25ms/step - loss: 8.6355e-04\n",
      "Epoch 41/100\n",
      "48/48 [==============================] - 1s 25ms/step - loss: 8.1498e-04\n",
      "Epoch 42/100\n",
      "48/48 [==============================] - 1s 25ms/step - loss: 9.1136e-04\n",
      "Epoch 43/100\n",
      "48/48 [==============================] - 1s 25ms/step - loss: 8.8744e-04\n",
      "Epoch 44/100\n",
      "48/48 [==============================] - 1s 25ms/step - loss: 0.0011\n",
      "Epoch 45/100\n",
      "48/48 [==============================] - 1s 25ms/step - loss: 9.9287e-04\n",
      "Epoch 46/100\n",
      "48/48 [==============================] - 1s 25ms/step - loss: 8.8643e-04\n",
      "Epoch 47/100\n",
      "48/48 [==============================] - 1s 25ms/step - loss: 9.0742e-04\n",
      "Epoch 48/100\n",
      "48/48 [==============================] - 1s 25ms/step - loss: 7.3424e-04\n",
      "Epoch 49/100\n",
      "48/48 [==============================] - 1s 31ms/step - loss: 8.1825e-04\n",
      "Epoch 50/100\n",
      "48/48 [==============================] - 1s 25ms/step - loss: 7.1749e-04\n",
      "Epoch 51/100\n",
      "48/48 [==============================] - 1s 22ms/step - loss: 7.9037e-04\n",
      "Epoch 52/100\n",
      "48/48 [==============================] - 1s 24ms/step - loss: 8.6607e-04\n",
      "Epoch 53/100\n",
      "48/48 [==============================] - 1s 26ms/step - loss: 8.8243e-04\n",
      "Epoch 54/100\n",
      "48/48 [==============================] - 1s 24ms/step - loss: 8.7809e-04\n",
      "Epoch 55/100\n",
      "48/48 [==============================] - 1s 25ms/step - loss: 7.6179e-04\n",
      "Epoch 56/100\n",
      "48/48 [==============================] - 1s 25ms/step - loss: 8.8893e-04\n",
      "Epoch 57/100\n",
      "48/48 [==============================] - 1s 26ms/step - loss: 7.2684e-04\n",
      "Epoch 58/100\n",
      "48/48 [==============================] - 1s 24ms/step - loss: 8.4176e-04\n",
      "Epoch 59/100\n",
      "48/48 [==============================] - 1s 25ms/step - loss: 9.9489e-04\n",
      "Epoch 60/100\n",
      "48/48 [==============================] - 1s 24ms/step - loss: 9.7534e-04\n",
      "Epoch 61/100\n",
      "48/48 [==============================] - 2s 32ms/step - loss: 8.8598e-04\n",
      "Epoch 62/100\n",
      "48/48 [==============================] - 1s 21ms/step - loss: 7.4981e-04\n",
      "Epoch 63/100\n",
      "48/48 [==============================] - 1s 25ms/step - loss: 7.8726e-04\n",
      "Epoch 64/100\n",
      "48/48 [==============================] - 1s 25ms/step - loss: 8.5917e-04\n",
      "Epoch 65/100\n",
      "48/48 [==============================] - 1s 28ms/step - loss: 0.0010\n",
      "Epoch 66/100\n",
      "48/48 [==============================] - 1s 23ms/step - loss: 7.3272e-04\n",
      "Epoch 67/100\n",
      "48/48 [==============================] - 1s 25ms/step - loss: 7.8131e-04\n",
      "Epoch 68/100\n",
      "48/48 [==============================] - 1s 24ms/step - loss: 7.7084e-04\n",
      "Epoch 69/100\n",
      "48/48 [==============================] - 1s 24ms/step - loss: 8.2398e-04\n",
      "Epoch 70/100\n",
      "48/48 [==============================] - 1s 25ms/step - loss: 7.7512e-04\n",
      "Epoch 71/100\n",
      "48/48 [==============================] - 1s 24ms/step - loss: 8.4337e-04\n",
      "Epoch 72/100\n",
      "48/48 [==============================] - 1s 25ms/step - loss: 7.6099e-04\n",
      "Epoch 73/100\n",
      "48/48 [==============================] - 1s 28ms/step - loss: 7.1824e-04\n",
      "Epoch 74/100\n",
      "48/48 [==============================] - 1s 26ms/step - loss: 9.1188e-04\n",
      "Epoch 75/100\n",
      "48/48 [==============================] - 1s 23ms/step - loss: 8.3835e-04\n",
      "Epoch 76/100\n",
      "48/48 [==============================] - 1s 28ms/step - loss: 7.3582e-04\n",
      "Epoch 77/100\n",
      "48/48 [==============================] - 1s 30ms/step - loss: 7.8082e-04\n",
      "Epoch 78/100\n",
      "48/48 [==============================] - 1s 22ms/step - loss: 8.3338e-04\n",
      "Epoch 79/100\n",
      "48/48 [==============================] - 1s 24ms/step - loss: 8.0120e-04\n",
      "Epoch 80/100\n",
      "48/48 [==============================] - 1s 26ms/step - loss: 8.5037e-04\n",
      "Epoch 81/100\n",
      "48/48 [==============================] - 1s 24ms/step - loss: 7.7984e-04\n",
      "Epoch 82/100\n",
      "48/48 [==============================] - 1s 27ms/step - loss: 7.8551e-04\n",
      "Epoch 83/100\n",
      "48/48 [==============================] - 1s 25ms/step - loss: 9.7861e-04\n",
      "Epoch 84/100\n",
      "48/48 [==============================] - 1s 29ms/step - loss: 9.6301e-04\n",
      "Epoch 85/100\n",
      "48/48 [==============================] - 1s 29ms/step - loss: 6.8146e-04\n",
      "Epoch 86/100\n",
      "48/48 [==============================] - 1s 24ms/step - loss: 7.4718e-04\n",
      "Epoch 87/100\n",
      "48/48 [==============================] - 1s 25ms/step - loss: 7.4468e-04\n",
      "Epoch 88/100\n",
      "48/48 [==============================] - 1s 26ms/step - loss: 6.7806e-04\n",
      "Epoch 89/100\n",
      "48/48 [==============================] - 1s 25ms/step - loss: 7.0344e-04\n",
      "Epoch 90/100\n",
      "48/48 [==============================] - 1s 25ms/step - loss: 7.1991e-04\n",
      "Epoch 91/100\n",
      "48/48 [==============================] - 1s 25ms/step - loss: 7.5673e-04\n",
      "Epoch 92/100\n",
      "48/48 [==============================] - 1s 25ms/step - loss: 7.8937e-04\n",
      "Epoch 93/100\n",
      "48/48 [==============================] - 1s 25ms/step - loss: 9.3547e-04\n",
      "Epoch 94/100\n",
      "48/48 [==============================] - 1s 31ms/step - loss: 7.1757e-04\n",
      "Epoch 95/100\n",
      "48/48 [==============================] - 1s 26ms/step - loss: 7.1217e-04\n",
      "Epoch 96/100\n",
      "48/48 [==============================] - 1s 23ms/step - loss: 6.7220e-04\n",
      "Epoch 97/100\n",
      "48/48 [==============================] - 1s 24ms/step - loss: 7.8906e-04\n",
      "Epoch 98/100\n"
     ]
    },
    {
     "name": "stdout",
     "output_type": "stream",
     "text": [
      "48/48 [==============================] - 1s 30ms/step - loss: 6.9148e-04\n",
      "Epoch 99/100\n",
      "48/48 [==============================] - 1s 21ms/step - loss: 7.3163e-04\n",
      "Epoch 100/100\n",
      "48/48 [==============================] - 1s 29ms/step - loss: 7.1295e-04\n"
     ]
    },
    {
     "data": {
      "text/plain": [
       "<keras.callbacks.History at 0x2396893e190>"
      ]
     },
     "execution_count": 144,
     "metadata": {},
     "output_type": "execute_result"
    }
   ],
   "source": [
    "# 使用adam优化器\n",
    "regressor.compile(optimizer = 'adam', loss = 'mean_squared_error')\n",
    "\n",
    "regressor.fit(train_x, train_y, epochs = 100, batch_size = 20)"
   ]
  },
  {
   "cell_type": "code",
   "execution_count": 145,
   "id": "82ce0c25",
   "metadata": {},
   "outputs": [],
   "source": [
    "dataset_test = pd.read_csv('maotai-test.csv',index_col=\"trade_date\",parse_dates=True)\n",
    "dataset_test=dataset_test.sort_index()"
   ]
  },
  {
   "cell_type": "code",
   "execution_count": 146,
   "id": "68d69098",
   "metadata": {},
   "outputs": [
    {
     "name": "stdout",
     "output_type": "stream",
     "text": [
      "<class 'pandas.core.frame.DataFrame'>\n",
      "DatetimeIndex: 59 entries, 2018-01-02 to 2018-03-30\n",
      "Data columns (total 5 columns):\n",
      " #   Column  Non-Null Count  Dtype  \n",
      "---  ------  --------------  -----  \n",
      " 0   open    59 non-null     float64\n",
      " 1   high    59 non-null     float64\n",
      " 2   low     59 non-null     float64\n",
      " 3   close   59 non-null     float64\n",
      " 4   vol     59 non-null     float64\n",
      "dtypes: float64(5)\n",
      "memory usage: 2.8 KB\n"
     ]
    }
   ],
   "source": [
    "\n",
    "dataset_test.info()"
   ]
  },
  {
   "cell_type": "code",
   "execution_count": 153,
   "id": "83a38ae5",
   "metadata": {},
   "outputs": [
    {
     "name": "stdout",
     "output_type": "stream",
     "text": [
      "              open    high     low   close        vol   predicted\n",
      "trade_date                                                       \n",
      "2018-01-02  700.00  710.16  689.89  703.85   49612.48  668.009766\n",
      "2018-01-03  701.50  721.40  699.74  715.86   52019.41  671.670532\n",
      "2018-01-04  721.40  743.50  719.33  737.07   72205.08  675.583496\n",
      "2018-01-05  741.00  746.03  728.22  738.36   39989.07  679.996338\n",
      "2018-01-08  735.02  756.50  735.02  752.13   52204.56  685.007935\n",
      "2018-01-09  752.21  783.00  752.21  782.52   64591.95  690.495667\n",
      "2018-01-10  785.00  788.88  773.48  785.71   47714.24  696.609070\n",
      "2018-01-11  787.00  788.00  772.00  774.81   50656.07  703.739624\n",
      "2018-01-12  773.77  788.80  767.02  788.42   45988.24  711.437378\n",
      "2018-01-15  793.46  799.06  779.02  785.37   52473.13  719.663818\n",
      "2018-01-16  780.48  788.61  768.00  772.94   65428.33  728.110413\n",
      "2018-01-17  770.00  774.00  738.51  747.93   90709.54  736.119263\n",
      "2018-01-18  747.93  765.00  744.09  750.74   58978.51  743.316345\n",
      "2018-01-19  752.90  758.90  739.02  750.18   50925.56  749.308228\n",
      "2018-01-22  751.81  774.00  751.81  773.64   67126.75  754.237610\n",
      "2018-01-23  777.81  780.00  768.60  773.78   49549.18  758.235840\n",
      "2018-01-24  776.44  776.46  758.60  764.46   43298.81  761.509399\n",
      "2018-01-25  761.00  776.00  751.00  769.16   50040.72  764.315674\n",
      "2018-01-26  767.24  777.40  764.00  777.22   43978.33  766.836975\n",
      "2018-01-29  778.76  779.67  735.00  736.32   74535.51  768.465515\n",
      "2018-01-30  736.00  748.77  730.02  742.08   51911.03  770.029236\n",
      "2018-01-31  739.00  771.71  739.00  764.54   60402.41  771.047424\n",
      "2018-02-01  767.00  767.30  752.92  757.73   50582.61  771.464539\n",
      "2018-02-02  752.22  753.23  725.00  740.40   75420.82  771.261658\n",
      "2018-02-05  727.22  729.96  705.60  718.23   98995.85  770.772156\n",
      "2018-02-06  703.00  722.60  703.00  708.86   88168.71  769.674133\n",
      "2018-02-07  720.00  723.88  682.01  683.43   88289.98  767.541504\n",
      "2018-02-08  682.20  718.00  682.20  700.99   83409.43  764.696838\n",
      "2018-02-09  680.00  689.89  658.00  683.43  105578.26  761.235962\n",
      "2018-02-12  691.00  705.50  685.20  697.48   64179.55  756.674927\n",
      "2018-02-13  705.02  714.82  704.50  711.98   53389.18  751.466125\n",
      "2018-02-14  720.00  720.00  712.22  718.45   30652.60  746.064758\n",
      "2018-02-22  727.30  744.00  723.24  742.45   50764.69  741.032654\n",
      "2018-02-23  747.00  756.56  737.00  742.48   38158.77  736.263794\n",
      "2018-02-26  746.88  752.05  733.02  743.51   43658.24  732.266785\n",
      "2018-02-27  749.00  756.00  737.22  737.98   42601.54  728.842407\n",
      "2018-02-28  732.00  742.30  719.00  725.62   48330.67  726.632935\n",
      "2018-03-01  728.00  746.85  723.77  741.97   44794.65  725.585327\n",
      "2018-03-02  738.00  743.56  730.00  736.41   25991.90  725.264465\n",
      "2018-03-05  738.18  742.00  717.03  720.11   37234.70  725.505005\n",
      "2018-03-06  725.00  727.60  697.13  718.26   64570.36  726.728149\n",
      "2018-03-07  715.00  724.00  708.99  710.04   34595.94  727.767639\n",
      "2018-03-08  714.00  724.00  708.00  722.76   35349.30  728.235229\n",
      "2018-03-09  727.55  732.57  723.50  728.20   30171.00  728.585510\n",
      "2018-03-12  729.55  733.92  722.77  723.95   39888.41  728.967896\n",
      "2018-03-13  723.00  726.60  710.00  710.35   38577.09  729.418152\n",
      "2018-03-14  709.67  728.08  707.22  726.88   37355.76  729.675293\n",
      "2018-03-15  728.02  747.00  728.02  746.47   56148.79  729.987122\n",
      "2018-03-16  747.60  753.98  738.88  739.85   35855.52  730.056396\n",
      "2018-03-19  743.97  753.99  739.00  753.48   38666.58  730.542664\n",
      "2018-03-20  750.00  752.00  740.00  747.73   28877.20  731.160339\n",
      "2018-03-21  750.11  753.11  740.00  742.00   26742.71  731.981567\n",
      "2018-03-22  744.00  748.00  724.01  726.08   37486.97  733.075195\n",
      "2018-03-23  701.00  723.49  700.08  711.06   52546.77  733.968018\n",
      "2018-03-26  708.00  715.06  701.88  713.49   46256.11  734.759277\n",
      "2018-03-27  723.00  725.88  704.00  714.74   47548.44  735.195862\n",
      "2018-03-28  699.97  703.00  669.00  682.05  113539.72  735.271118\n",
      "2018-03-29  682.20  697.85  658.41  689.10   79081.96  734.819397\n",
      "2018-03-30  686.00  693.50  679.88  683.62   36540.28  733.326416\n"
     ]
    },
    {
     "data": {
      "image/png": "[encoded data removed]",
      "text/plain": [
       "<Figure size 432x288 with 1 Axes>"
      ]
     },
     "metadata": {
      "needs_background": "light"
     },
     "output_type": "display_data"
    }
   ],
   "source": [
    "# 预测2018年股价\n",
    "dataset_total = pd.concat((dataset['close'], dataset_test['close']), axis = 0)\n",
    "inputs = dataset_total[len(dataset_total) - len(dataset_test) - time_step:].values\n",
    "inputs = inputs.reshape(-1,1)\n",
    "\n",
    "inputs=transfer.fit_transform(inputs)\n",
    "\n",
    "X_test = []\n",
    "for i in range(time_step,len(dataset_test)+time_step):\n",
    "    X_test.append(inputs[i-time_step:i, 0])\n",
    "\n",
    "X_test = np.array(X_test)\n",
    "X_test = np.reshape(X_test, (X_test.shape[0], X_test.shape[1], 1))\n",
    "predicted_stock_price = regressor.predict(X_test)\n",
    "predicted_stock_price = transfer.inverse_transform(predicted_stock_price)\n",
    "\n",
    "dataset_test[\"predicted\"]=predicted_stock_price\n",
    "print(dataset_test)\n",
    "\n",
    "\n",
    "plt.plot(dataset_test['close'], color = 'red', label = 'Real MaoTai Stock Price')\n",
    "plt.plot(dataset_test['predicted'], color = 'blue', label = 'Predicted MaoTai Stock Price')\n",
    "plt.title('MaoTai Stock Price Prediction')\n",
    "plt.xlabel('Time')\n",
    "plt.ylabel('MaoTai Stock Price')\n",
    "plt.legend()\n",
    "plt.show()\n"
   ]
  },
  {
   "cell_type": "code",
   "execution_count": null,
   "id": "94ea6d28",
   "metadata": {},
   "outputs": [],
   "source": []
  }
 ],
 "metadata": {
  "kernelspec": {
   "display_name": "Python 3 (ipykernel)",
   "language": "python",
   "name": "python3"
  },
  "language_info": {
   "codemirror_mode": {
    "name": "ipython",
    "version": 3
   },
   "file_extension": ".py",
   "mimetype": "text/x-python",
   "name": "python",
   "nbconvert_exporter": "python",
   "pygments_lexer": "ipython3",
   "version": "3.9.7"
  }
 },
 "nbformat": 4,
 "nbformat_minor": 5
}
